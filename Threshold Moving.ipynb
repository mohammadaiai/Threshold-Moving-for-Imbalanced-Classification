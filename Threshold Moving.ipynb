{
  "nbformat": 4,
  "nbformat_minor": 0,
  "metadata": {
    "colab": {
      "name": "Untitled113.ipynb",
      "provenance": []
    },
    "kernelspec": {
      "name": "python3",
      "display_name": "Python 3"
    },
    "language_info": {
      "name": "python"
    }
  },
  "cells": [
    {
      "cell_type": "code",
      "execution_count": 88,
      "metadata": {
        "id": "fAYqOsOsBR0R"
      },
      "outputs": [],
      "source": [
        "import pandas as pd\n",
        "import numpy as np\n",
        "import matplotlib.pyplot as plt\n",
        "from matplotlib import pyplot\n",
        "from sklearn.metrics import accuracy_score\n",
        "%matplotlib inline\n",
        "data=pd.read_csv(\"diabetes.csv\")"
      ]
    },
    {
      "cell_type": "code",
      "source": [
        "X=data[['Pregnancies','Glucose','BloodPressure','SkinThickness','Insulin','BMI','DiabetesPedigreeFunction','Age']]\n",
        "y=data['Outcome']\n",
        "from sklearn.model_selection import train_test_split"
      ],
      "metadata": {
        "id": "no6ObK4OBSur"
      },
      "execution_count": 52,
      "outputs": []
    },
    {
      "cell_type": "code",
      "source": [
        "X_train, X_test, y_train, y_test = train_test_split(X, y, test_size=0.3, random_state=1)"
      ],
      "metadata": {
        "id": "SVhehxHoBSwx"
      },
      "execution_count": 53,
      "outputs": []
    },
    {
      "cell_type": "code",
      "source": [
        "# Creating Logistic Regression (LR) Classifier\n",
        "from sklearn.linear_model import LogisticRegression\n",
        "logit=LogisticRegression(max_iter=6000)\n",
        "model_lr=logit.fit(X_train, y_train)"
      ],
      "metadata": {
        "id": "dv_nUy3lBSzC"
      },
      "execution_count": 54,
      "outputs": []
    },
    {
      "cell_type": "code",
      "source": [
        "# Here, we want to find the best threshold, which results in the highest F1-score\n",
        "yhat = model_lr.predict_proba(X_test)\n",
        "yhat = yhat[:, 1]\n",
        "# calculate precision-recall curve\n",
        "from sklearn.metrics import precision_recall_curve\n",
        "precision, recall, thresholds = precision_recall_curve(y_test, yhat)"
      ],
      "metadata": {
        "id": "gZa_2zY3CRgt"
      },
      "execution_count": 60,
      "outputs": []
    },
    {
      "cell_type": "code",
      "source": [
        "# Calculate the F1-scores realted to each specific threshold\n",
        "f_scores=[]\n",
        "threshold=[]\n",
        "for i, j, k in zip(precision, recall, thresholds):\n",
        "  f_score=2*(i*j)/(i+j)\n",
        "  f_scores.append(f_score)\n",
        "  threshold.append(k)"
      ],
      "metadata": {
        "id": "tNwUZpiVDecD"
      },
      "execution_count": 61,
      "outputs": []
    },
    {
      "cell_type": "code",
      "source": [
        "# Find the maximum F1-score\n",
        "max_f1=np.argmax(f_scores)\n",
        "f1=f_scores[max_f1]\n",
        "print('The highest F1-score is equal to', f1)"
      ],
      "metadata": {
        "colab": {
          "base_uri": "https://localhost:8080/"
        },
        "id": "j5N0i96mE1hs",
        "outputId": "54a45639-00fa-406b-bf18-4172b785feaf"
      },
      "execution_count": 81,
      "outputs": [
        {
          "output_type": "stream",
          "name": "stdout",
          "text": [
            "The highest F1-score is equal to 0.7528089887640449\n"
          ]
        }
      ]
    },
    {
      "cell_type": "code",
      "source": [
        "# Find the optimal threshold for the highest F1-score\n",
        "print('The optimal threshold for F1-score is equal to', threshold[max])"
      ],
      "metadata": {
        "colab": {
          "base_uri": "https://localhost:8080/"
        },
        "id": "64AsElmVFj8I",
        "outputId": "63fef731-026a-4670-8bcd-de8fa68899ed"
      },
      "execution_count": 82,
      "outputs": [
        {
          "output_type": "stream",
          "name": "stdout",
          "text": [
            "The optimal threshold for F1-score is equal to 0.33010404773995233\n"
          ]
        }
      ]
    },
    {
      "cell_type": "code",
      "source": [
        "no_skill = len(y_test[y_test==1]) / len(y_test)\n",
        "pyplot.plot([0,1], [no_skill,no_skill], linestyle='--', label='No Skill')\n",
        "pyplot.plot(recall, precision, marker='.', label='Logistic')\n",
        "pyplot.scatter(recall[max_f1], precision[max_f1], marker='o', color='black', label='Best')\n",
        "# axis labels\n",
        "pyplot.xlabel('Recall')\n",
        "pyplot.ylabel('Precision')\n",
        "pyplot.legend()\n",
        "# show the plot\n",
        "pyplot.show()"
      ],
      "metadata": {
        "colab": {
          "base_uri": "https://localhost:8080/",
          "height": 279
        },
        "id": "hnIjW5xky_Pw",
        "outputId": "8d4edd3e-2e82-472a-c033-d7c07a1cc40e"
      },
      "execution_count": 89,
      "outputs": [
        {
          "output_type": "display_data",
          "data": {
            "text/plain": [
              "<Figure size 432x288 with 1 Axes>"
            ],
            "image/png": "[encoded data removed]"
          },
          "metadata": {
            "needs_background": "light"
          }
        }
      ]
    },
    {
      "cell_type": "code",
      "source": [
        "# Find the maximum accuracy\n",
        "accuracies=[]\n",
        "preds=[]\n",
        "for i in thresholds:\n",
        "  preds_lr=[]\n",
        "  for j in range(len(yhat)):\n",
        "    if yhat[j]>=i:\n",
        "      preds_lr.append(1)\n",
        "    else:\n",
        "      preds_lr.append(0)\n",
        "  acc=accuracy_score(y_test, preds_lr)\n",
        "  accuracies.append(acc)\n",
        "  preds.append(preds_lr)\n",
        "max_acc=np.argmax(accuracies)\n",
        "acc=accuracies[max_acc]\n",
        "print('The highest accuracy is equal to', acc)"
      ],
      "metadata": {
        "colab": {
          "base_uri": "https://localhost:8080/"
        },
        "id": "gOtVwXyQrAAo",
        "outputId": "1d62d7af-9c51-4ef2-aeb4-f9a908447ac7"
      },
      "execution_count": 85,
      "outputs": [
        {
          "output_type": "stream",
          "name": "stdout",
          "text": [
            "The highest accuracy is equal to 0.8138528138528138\n"
          ]
        }
      ]
    },
    {
      "cell_type": "code",
      "source": [
        "# Find the optimal threshold for the highest accuracy\n",
        "print('The optimal threshold for F1-score is equal to', threshold[max_acc])"
      ],
      "metadata": {
        "colab": {
          "base_uri": "https://localhost:8080/"
        },
        "id": "LA_XIVE1vD8q",
        "outputId": "5d420618-51fa-4c1d-8fe5-849949566d71"
      },
      "execution_count": 86,
      "outputs": [
        {
          "output_type": "stream",
          "name": "stdout",
          "text": [
            "The optimal threshold for F1-score is equal to 0.3565894543617987\n"
          ]
        }
      ]
    },
    {
      "cell_type": "code",
      "source": [
        "from sklearn.metrics import confusion_matrix\n",
        "import seaborn as sns\n",
        "cf_matrix_svm_rbf=confusion_matrix(y_test, preds[max_acc])\n",
        "ax=plt.subplot()\n",
        "sns.heatmap(cf_matrix_svm_rbf, cmap='Blues', annot=True, linewidths=1, fmt = 'd', ax=ax)\n",
        "ax.set_xlabel('Predicted Class');ax.set_ylabel('True Class')\n",
        "ax.set_title('Confusion Matrix')\n",
        "ax.xaxis.set_ticklabels(['Normal', 'Pneumonia']); ax.yaxis.set_ticklabels(['Normal', 'Pneumonia'])\n",
        "accuracy_score(y_test, preds[max_acc])"
      ],
      "metadata": {
        "colab": {
          "base_uri": "https://localhost:8080/",
          "height": 312
        },
        "id": "x2Bp_MJSxoe9",
        "outputId": "e4b989e5-9b66-4d4d-9a7f-00bd6866fd95"
      },
      "execution_count": 87,
      "outputs": [
        {
          "output_type": "execute_result",
          "data": {
            "text/plain": [
              "0.8138528138528138"
            ]
          },
          "metadata": {},
          "execution_count": 87
        },
        {
          "output_type": "display_data",
          "data": {
            "text/plain": [
              "<Figure size 432x288 with 2 Axes>"
            ],
            "image/png": "[encoded data removed]"
          },
          "metadata": {
            "needs_background": "light"
          }
        }
      ]
    },
    {
      "cell_type": "code",
      "source": [
        "no_skill = len(y_test[y_test==1]) / len(y_test)\n",
        "pyplot.plot([0,1], [no_skill,no_skill], linestyle='--', label='No Skill')\n",
        "pyplot.plot(recall, precision, marker='.', label='Logistic')\n",
        "pyplot.scatter(recall[max_acc], precision[max_acc], marker='o', color='black', label='Best')\n",
        "# axis labels\n",
        "pyplot.xlabel('Recall')\n",
        "pyplot.ylabel('Precision')\n",
        "pyplot.legend()\n",
        "# show the plot\n",
        "pyplot.show()"
      ],
      "metadata": {
        "colab": {
          "base_uri": "https://localhost:8080/",
          "height": 279
        },
        "id": "stC3Esv3zv2F",
        "outputId": "ac840ebd-d82c-492e-ee51-89de4c963a52"
      },
      "execution_count": 93,
      "outputs": [
        {
          "output_type": "display_data",
          "data": {
            "text/plain": [
              "<Figure size 432x288 with 1 Axes>"
            ],
            "image/png": "[encoded data removed]"
          },
          "metadata": {
            "needs_background": "light"
          }
        }
      ]
    }
  ]
}